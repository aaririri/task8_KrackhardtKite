{
  "nbformat": 4,
  "nbformat_minor": 0,
  "metadata": {
    "colab": {
      "provenance": [],
      "authorship_tag": "ABX9TyOXRwUnpAJv3FsECGFTqk9D",
      "include_colab_link": true
    },
    "kernelspec": {
      "name": "python3",
      "display_name": "Python 3"
    },
    "language_info": {
      "name": "python"
    }
  },
  "cells": [
    {
      "cell_type": "markdown",
      "metadata": {
        "id": "view-in-github",
        "colab_type": "text"
      },
      "source": [
        "<a href=\"https://colab.research.google.com/github/aaririri/task8_KrackhardtKite/blob/main/task8_A.ipynb\" target=\"_parent\"><img src=\"https://colab.research.google.com/assets/colab-badge.svg\" alt=\"Open In Colab\"/></a>"
      ]
    },
    {
      "cell_type": "code",
      "source": [
        "!pip install torch torchvision torchaudio torch-geometric networkx\n",
        "\n",
        "import torch\n",
        "from torch_geometric.datasets import TUDataset\n",
        "import networkx as nx\n",
        "import random\n",
        "from networkx.algorithms.graph_hashing import weisfeiler_lehman_graph_hash as WLHash"
      ],
      "metadata": {
        "id": "hq7YA65xYU4y",
        "colab": {
          "base_uri": "https://localhost:8080/"
        },
        "outputId": "0ef8d016-033e-403e-dfd9-d891f68151ec"
      },
      "execution_count": 9,
      "outputs": [
        {
          "output_type": "stream",
          "name": "stdout",
          "text": [
            "Requirement already satisfied: torch in /usr/local/lib/python3.12/dist-packages (2.8.0+cu126)\n",
            "Requirement already satisfied: torchvision in /usr/local/lib/python3.12/dist-packages (0.23.0+cu126)\n",
            "Requirement already satisfied: torchaudio in /usr/local/lib/python3.12/dist-packages (2.8.0+cu126)\n",
            "Requirement already satisfied: torch-geometric in /usr/local/lib/python3.12/dist-packages (2.6.1)\n",
            "Requirement already satisfied: networkx in /usr/local/lib/python3.12/dist-packages (3.5)\n",
            "Requirement already satisfied: filelock in /usr/local/lib/python3.12/dist-packages (from torch) (3.19.1)\n",
            "Requirement already satisfied: typing-extensions>=4.10.0 in /usr/local/lib/python3.12/dist-packages (from torch) (4.15.0)\n",
            "Requirement already satisfied: setuptools in /usr/local/lib/python3.12/dist-packages (from torch) (75.2.0)\n",
            "Requirement already satisfied: sympy>=1.13.3 in /usr/local/lib/python3.12/dist-packages (from torch) (1.13.3)\n",
            "Requirement already satisfied: jinja2 in /usr/local/lib/python3.12/dist-packages (from torch) (3.1.6)\n",
            "Requirement already satisfied: fsspec in /usr/local/lib/python3.12/dist-packages (from torch) (2025.3.0)\n",
            "Requirement already satisfied: nvidia-cuda-nvrtc-cu12==12.6.77 in /usr/local/lib/python3.12/dist-packages (from torch) (12.6.77)\n",
            "Requirement already satisfied: nvidia-cuda-runtime-cu12==12.6.77 in /usr/local/lib/python3.12/dist-packages (from torch) (12.6.77)\n",
            "Requirement already satisfied: nvidia-cuda-cupti-cu12==12.6.80 in /usr/local/lib/python3.12/dist-packages (from torch) (12.6.80)\n",
            "Requirement already satisfied: nvidia-cudnn-cu12==9.10.2.21 in /usr/local/lib/python3.12/dist-packages (from torch) (9.10.2.21)\n",
            "Requirement already satisfied: nvidia-cublas-cu12==12.6.4.1 in /usr/local/lib/python3.12/dist-packages (from torch) (12.6.4.1)\n",
            "Requirement already satisfied: nvidia-cufft-cu12==11.3.0.4 in /usr/local/lib/python3.12/dist-packages (from torch) (11.3.0.4)\n",
            "Requirement already satisfied: nvidia-curand-cu12==10.3.7.77 in /usr/local/lib/python3.12/dist-packages (from torch) (10.3.7.77)\n",
            "Requirement already satisfied: nvidia-cusolver-cu12==11.7.1.2 in /usr/local/lib/python3.12/dist-packages (from torch) (11.7.1.2)\n",
            "Requirement already satisfied: nvidia-cusparse-cu12==12.5.4.2 in /usr/local/lib/python3.12/dist-packages (from torch) (12.5.4.2)\n",
            "Requirement already satisfied: nvidia-cusparselt-cu12==0.7.1 in /usr/local/lib/python3.12/dist-packages (from torch) (0.7.1)\n",
            "Requirement already satisfied: nvidia-nccl-cu12==2.27.3 in /usr/local/lib/python3.12/dist-packages (from torch) (2.27.3)\n",
            "Requirement already satisfied: nvidia-nvtx-cu12==12.6.77 in /usr/local/lib/python3.12/dist-packages (from torch) (12.6.77)\n",
            "Requirement already satisfied: nvidia-nvjitlink-cu12==12.6.85 in /usr/local/lib/python3.12/dist-packages (from torch) (12.6.85)\n",
            "Requirement already satisfied: nvidia-cufile-cu12==1.11.1.6 in /usr/local/lib/python3.12/dist-packages (from torch) (1.11.1.6)\n",
            "Requirement already satisfied: triton==3.4.0 in /usr/local/lib/python3.12/dist-packages (from torch) (3.4.0)\n",
            "Requirement already satisfied: numpy in /usr/local/lib/python3.12/dist-packages (from torchvision) (2.0.2)\n",
            "Requirement already satisfied: pillow!=8.3.*,>=5.3.0 in /usr/local/lib/python3.12/dist-packages (from torchvision) (11.3.0)\n",
            "Requirement already satisfied: aiohttp in /usr/local/lib/python3.12/dist-packages (from torch-geometric) (3.12.15)\n",
            "Requirement already satisfied: psutil>=5.8.0 in /usr/local/lib/python3.12/dist-packages (from torch-geometric) (5.9.5)\n",
            "Requirement already satisfied: pyparsing in /usr/local/lib/python3.12/dist-packages (from torch-geometric) (3.2.3)\n",
            "Requirement already satisfied: requests in /usr/local/lib/python3.12/dist-packages (from torch-geometric) (2.32.4)\n",
            "Requirement already satisfied: tqdm in /usr/local/lib/python3.12/dist-packages (from torch-geometric) (4.67.1)\n",
            "Requirement already satisfied: mpmath<1.4,>=1.1.0 in /usr/local/lib/python3.12/dist-packages (from sympy>=1.13.3->torch) (1.3.0)\n",
            "Requirement already satisfied: aiohappyeyeballs>=2.5.0 in /usr/local/lib/python3.12/dist-packages (from aiohttp->torch-geometric) (2.6.1)\n",
            "Requirement already satisfied: aiosignal>=1.4.0 in /usr/local/lib/python3.12/dist-packages (from aiohttp->torch-geometric) (1.4.0)\n",
            "Requirement already satisfied: attrs>=17.3.0 in /usr/local/lib/python3.12/dist-packages (from aiohttp->torch-geometric) (25.3.0)\n",
            "Requirement already satisfied: frozenlist>=1.1.1 in /usr/local/lib/python3.12/dist-packages (from aiohttp->torch-geometric) (1.7.0)\n",
            "Requirement already satisfied: multidict<7.0,>=4.5 in /usr/local/lib/python3.12/dist-packages (from aiohttp->torch-geometric) (6.6.4)\n",
            "Requirement already satisfied: propcache>=0.2.0 in /usr/local/lib/python3.12/dist-packages (from aiohttp->torch-geometric) (0.3.2)\n",
            "Requirement already satisfied: yarl<2.0,>=1.17.0 in /usr/local/lib/python3.12/dist-packages (from aiohttp->torch-geometric) (1.20.1)\n",
            "Requirement already satisfied: MarkupSafe>=2.0 in /usr/local/lib/python3.12/dist-packages (from jinja2->torch) (3.0.2)\n",
            "Requirement already satisfied: charset_normalizer<4,>=2 in /usr/local/lib/python3.12/dist-packages (from requests->torch-geometric) (3.4.3)\n",
            "Requirement already satisfied: idna<4,>=2.5 in /usr/local/lib/python3.12/dist-packages (from requests->torch-geometric) (3.10)\n",
            "Requirement already satisfied: urllib3<3,>=1.21.1 in /usr/local/lib/python3.12/dist-packages (from requests->torch-geometric) (2.5.0)\n",
            "Requirement already satisfied: certifi>=2017.4.17 in /usr/local/lib/python3.12/dist-packages (from requests->torch-geometric) (2025.8.3)\n"
          ]
        }
      ]
    },
    {
      "cell_type": "code",
      "source": [
        "dataset = TUDataset(root=\"/content/data\", name=\"AIDS\")\n",
        "print(\"Dataset loaded\")\n",
        "print(\"Total graphs in dataset:\", len(dataset))\n",
        "\n",
        "graphs_nx = []\n",
        "for data in dataset:\n",
        "    G = nx.Graph()\n",
        "    edge_index = data.edge_index.numpy()\n",
        "    for i in range(data.num_nodes):\n",
        "        G.add_node(i, label=int(data.x[i][0]))\n",
        "    for i, j in edge_index.T:\n",
        "        G.add_edge(int(i), int(j))\n",
        "    graphs_nx.append(G)\n",
        "\n",
        "print(\"Converted dataset to NetworkX graphs\")\n",
        "print(\"Example graph nodes with labels:\", list(graphs_nx[0].nodes(data=True))[:5])\n",
        "print(\"Example graph edges:\", list(graphs_nx[0].edges())[:5])"
      ],
      "metadata": {
        "id": "xUNKzh9mYaBY",
        "colab": {
          "base_uri": "https://localhost:8080/"
        },
        "outputId": "71abb0a2-d6bc-47eb-930d-758b341aeb2b"
      },
      "execution_count": 10,
      "outputs": [
        {
          "output_type": "stream",
          "name": "stdout",
          "text": [
            "Dataset loaded\n",
            "Total graphs in dataset: 2000\n",
            "Converted dataset to NetworkX graphs\n",
            "Example graph nodes with labels: [(0, {'label': 1}), (1, {'label': 1}), (2, {'label': 1}), (3, {'label': 1}), (4, {'label': 1})]\n",
            "Example graph edges: [(0, 1), (0, 5), (1, 2), (1, 11), (2, 3)]\n"
          ]
        }
      ]
    },
    {
      "cell_type": "code",
      "source": [
        "wl_hashes = [WLHash(graph, node_attr=\"label\") for graph in graphs_nx]\n",
        "print(\"Computed WL hashes for all graphs\")\n",
        "\n",
        "groups = {}\n",
        "for idx, h in enumerate(wl_hashes):\n",
        "    groups.setdefault(h, []).append(idx)\n",
        "\n",
        "largest_group = max(groups.values(), key=len)\n",
        "print(\"Largest WL-isomorphic group size:\", len(largest_group))\n",
        "print(\"Graph indices in largest group:\", largest_group)"
      ],
      "metadata": {
        "id": "jaM1r7srYawD",
        "colab": {
          "base_uri": "https://localhost:8080/"
        },
        "outputId": "32f52fbd-7c50-4503-fbaf-6277d817047c"
      },
      "execution_count": 11,
      "outputs": [
        {
          "output_type": "stream",
          "name": "stdout",
          "text": [
            "Computed WL hashes for all graphs\n",
            "Largest WL-isomorphic group size: 10\n",
            "Graph indices in largest group: [142, 263, 277, 373, 595, 683, 1317, 1374, 1659, 1909]\n"
          ]
        }
      ]
    },
    {
      "cell_type": "code",
      "source": [
        "\n",
        "def perturb_remove_edge(G):\n",
        "    G_copy = G.copy()\n",
        "    if G_copy.number_of_edges() > 0:\n",
        "        edge_to_remove = random.choice(list(G_copy.edges()))\n",
        "        G_copy.remove_edge(*edge_to_remove)\n",
        "    return G_copy\n",
        "\n",
        "perturbed_graphs = []\n",
        "for idx in largest_group:\n",
        "    original_graph = graphs_nx[idx]\n",
        "    for _ in range(10):\n",
        "        perturbed_graphs.append(perturb_remove_edge(original_graph))\n",
        "\n",
        "print(\"Generated perturbed graphs:\", len(perturbed_graphs))"
      ],
      "metadata": {
        "id": "THS7kAxcYazd",
        "colab": {
          "base_uri": "https://localhost:8080/"
        },
        "outputId": "4d9a6a2f-8909-4fe6-aba0-668672aa7f0f"
      },
      "execution_count": 12,
      "outputs": [
        {
          "output_type": "stream",
          "name": "stdout",
          "text": [
            "Generated perturbed graphs: 100\n"
          ]
        }
      ]
    },
    {
      "cell_type": "code",
      "source": [
        "all_graphs = [graphs_nx[idx] for idx in largest_group] + perturbed_graphs\n",
        "print(\"Combined originals and perturbed graphs\")\n",
        "print(\"Total graphs in analysis set:\", len(all_graphs))\n",
        "\n"
      ],
      "metadata": {
        "id": "UAsItG38Ya2Y",
        "colab": {
          "base_uri": "https://localhost:8080/"
        },
        "outputId": "489d30c6-40c5-4389-9f1a-b7de4f706976"
      },
      "execution_count": 13,
      "outputs": [
        {
          "output_type": "stream",
          "name": "stdout",
          "text": [
            "Combined originals and perturbed graphs\n",
            "Total graphs in analysis set: 110\n"
          ]
        }
      ]
    },
    {
      "cell_type": "code",
      "source": [
        "all_wl_hashes = [WLHash(g, node_attr=\"label\") for g in all_graphs]\n",
        "print(\"Recomputed WL hashes for originals and perturbed graphs\")\n",
        "\n",
        "original_hash = WLHash(graphs_nx[largest_group[0]], node_attr=\"label\")\n",
        "same_iso = sum(1 for h in all_wl_hashes if h == original_hash)\n",
        "different_iso = len(all_wl_hashes) - same_iso\n",
        "\n",
        "print(\"Final WL comparison results\")\n",
        "print(\"Total graphs tested:\", len(all_graphs))\n",
        "print(\"Number of graphs still isomorphic:\", same_iso)\n",
        "print(\"Number of broken isomorphisms:\", different_iso)\n"
      ],
      "metadata": {
        "id": "K8oo54tsYp0Z",
        "colab": {
          "base_uri": "https://localhost:8080/"
        },
        "outputId": "dcbaf736-5bce-4a3f-d0d0-f1cf705fc7ff"
      },
      "execution_count": 14,
      "outputs": [
        {
          "output_type": "stream",
          "name": "stdout",
          "text": [
            "Recomputed WL hashes for originals and perturbed graphs\n",
            "Final WL comparison results\n",
            "Total graphs tested: 110\n",
            "Number of graphs still isomorphic: 10\n",
            "Number of broken isomorphisms: 100\n"
          ]
        }
      ]
    },
    {
      "cell_type": "code",
      "source": [
        "print(\"Checking first 10 perturbed graphs individually\")\n",
        "for i, g in enumerate(perturbed_graphs[:10]):\n",
        "    h = WLHash(g, node_attr=\"label\")\n",
        "    status = \"Still Isomorphic\" if h == original_hash else \"Broken\"\n",
        "    print(\"Perturbed Graph\", i, \"→\", status)\n"
      ],
      "metadata": {
        "id": "MJPrPTe7Yp3P",
        "colab": {
          "base_uri": "https://localhost:8080/"
        },
        "outputId": "22365438-49bf-4aa3-dc52-b97406899075"
      },
      "execution_count": 15,
      "outputs": [
        {
          "output_type": "stream",
          "name": "stdout",
          "text": [
            "Checking first 10 perturbed graphs individually\n",
            "Perturbed Graph 0 → Broken\n",
            "Perturbed Graph 1 → Broken\n",
            "Perturbed Graph 2 → Broken\n",
            "Perturbed Graph 3 → Broken\n",
            "Perturbed Graph 4 → Broken\n",
            "Perturbed Graph 5 → Broken\n",
            "Perturbed Graph 6 → Broken\n",
            "Perturbed Graph 7 → Broken\n",
            "Perturbed Graph 8 → Broken\n",
            "Perturbed Graph 9 → Broken\n"
          ]
        }
      ]
    },
    {
      "cell_type": "code",
      "source": [],
      "metadata": {
        "id": "j1QTGiCPciB5"
      },
      "execution_count": null,
      "outputs": []
    },
    {
      "cell_type": "code",
      "source": [],
      "metadata": {
        "id": "XHph4bwuclkw"
      },
      "execution_count": null,
      "outputs": []
    }
  ]
}